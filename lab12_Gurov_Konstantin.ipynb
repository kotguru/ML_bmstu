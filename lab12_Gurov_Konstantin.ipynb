{
  "nbformat": 4,
  "nbformat_minor": 0,
  "metadata": {
    "kernelspec": {
      "display_name": "Python 3 (ipykernel)",
      "language": "python",
      "name": "python3"
    },
    "language_info": {
      "codemirror_mode": {
        "name": "ipython",
        "version": 3
      },
      "file_extension": ".py",
      "mimetype": "text/x-python",
      "name": "python",
      "nbconvert_exporter": "python",
      "pygments_lexer": "ipython3",
      "version": "3.7.1"
    },
    "colab": {
      "name": "lab12_Gurov_Konstantin.ipynb",
      "provenance": [],
      "include_colab_link": true
    }
  },
  "cells": [
    {
      "cell_type": "markdown",
      "metadata": {
        "id": "view-in-github",
        "colab_type": "text"
      },
      "source": [
        "<a href=\"https://colab.research.google.com/github/kotguru/ML_bmstu/blob/main/lab12_Gurov_Konstantin.ipynb\" target=\"_parent\"><img src=\"https://colab.research.google.com/assets/colab-badge.svg\" alt=\"Open In Colab\"/></a>"
      ]
    },
    {
      "cell_type": "markdown",
      "metadata": {
        "id": "swsjmRSCVd9c"
      },
      "source": [
        "## Import libraries"
      ]
    },
    {
      "cell_type": "code",
      "metadata": {
        "id": "HTin6XOQVd9h"
      },
      "source": [
        "import numpy as np\n",
        "import pandas as pd\n",
        "import re\n",
        "import matplotlib.pyplot as plt\n",
        "import seaborn as sns\n",
        "import matplotlib as mpl"
      ],
      "execution_count": null,
      "outputs": []
    },
    {
      "cell_type": "markdown",
      "metadata": {
        "id": "mRCOfl0rVd9i"
      },
      "source": [
        "## Read file + info"
      ]
    },
    {
      "cell_type": "code",
      "metadata": {
        "id": "Scnp5beMVd9i"
      },
      "source": [
        "data = pd.read_csv('data.csv', names=['Surname', 'Name', 'Patronymic', 'Sex']) "
      ],
      "execution_count": null,
      "outputs": []
    },
    {
      "cell_type": "code",
      "metadata": {
        "id": "vNs4yCsFVd9j",
        "outputId": "3a14a7d9-1345-48ff-f8eb-3677f083eb71"
      },
      "source": [
        "data.head()"
      ],
      "execution_count": null,
      "outputs": [
        {
          "data": {
            "text/html": [
              "<div>\n",
              "<style scoped>\n",
              "    .dataframe tbody tr th:only-of-type {\n",
              "        vertical-align: middle;\n",
              "    }\n",
              "\n",
              "    .dataframe tbody tr th {\n",
              "        vertical-align: top;\n",
              "    }\n",
              "\n",
              "    .dataframe thead th {\n",
              "        text-align: right;\n",
              "    }\n",
              "</style>\n",
              "<table border=\"1\" class=\"dataframe\">\n",
              "  <thead>\n",
              "    <tr style=\"text-align: right;\">\n",
              "      <th></th>\n",
              "      <th>Surname</th>\n",
              "      <th>Name</th>\n",
              "      <th>Patronymic</th>\n",
              "      <th>Sex</th>\n",
              "    </tr>\n",
              "  </thead>\n",
              "  <tbody>\n",
              "    <tr>\n",
              "      <th>0</th>\n",
              "      <td>АБАБИЙ</td>\n",
              "      <td>АНДРЕЙ</td>\n",
              "      <td>ВАСИЛЬЕВИЧ</td>\n",
              "      <td>М</td>\n",
              "    </tr>\n",
              "    <tr>\n",
              "      <th>1</th>\n",
              "      <td>АБАБИЛОВ</td>\n",
              "      <td>ДМИТРИЙ</td>\n",
              "      <td>НИКОЛАЕВИЧ</td>\n",
              "      <td>М</td>\n",
              "    </tr>\n",
              "    <tr>\n",
              "      <th>2</th>\n",
              "      <td>АБАБИЛОВ</td>\n",
              "      <td>ВЛАДИМИР</td>\n",
              "      <td>ИВАНОВИЧ</td>\n",
              "      <td>М</td>\n",
              "    </tr>\n",
              "    <tr>\n",
              "      <th>3</th>\n",
              "      <td>АБАБИЛОВ</td>\n",
              "      <td>СЕРГЕЙ</td>\n",
              "      <td>ИВАНОВИЧ</td>\n",
              "      <td>М</td>\n",
              "    </tr>\n",
              "    <tr>\n",
              "      <th>4</th>\n",
              "      <td>АБАБИЛОВ</td>\n",
              "      <td>ЮРИЙ</td>\n",
              "      <td>ВЛАДИМИРОВИЧ</td>\n",
              "      <td>М</td>\n",
              "    </tr>\n",
              "  </tbody>\n",
              "</table>\n",
              "</div>"
            ],
            "text/plain": [
              "    Surname      Name    Patronymic Sex\n",
              "0    АБАБИЙ    АНДРЕЙ    ВАСИЛЬЕВИЧ   М\n",
              "1  АБАБИЛОВ   ДМИТРИЙ    НИКОЛАЕВИЧ   М\n",
              "2  АБАБИЛОВ  ВЛАДИМИР      ИВАНОВИЧ   М\n",
              "3  АБАБИЛОВ    СЕРГЕЙ      ИВАНОВИЧ   М\n",
              "4  АБАБИЛОВ      ЮРИЙ  ВЛАДИМИРОВИЧ   М"
            ]
          },
          "execution_count": 60,
          "metadata": {},
          "output_type": "execute_result"
        }
      ]
    },
    {
      "cell_type": "code",
      "metadata": {
        "id": "tXqWBBXtVd9k",
        "outputId": "b07d1386-03b2-432b-864c-65dde5959ca6"
      },
      "source": [
        "data.tail()"
      ],
      "execution_count": null,
      "outputs": [
        {
          "data": {
            "text/html": [
              "<div>\n",
              "<style scoped>\n",
              "    .dataframe tbody tr th:only-of-type {\n",
              "        vertical-align: middle;\n",
              "    }\n",
              "\n",
              "    .dataframe tbody tr th {\n",
              "        vertical-align: top;\n",
              "    }\n",
              "\n",
              "    .dataframe thead th {\n",
              "        text-align: right;\n",
              "    }\n",
              "</style>\n",
              "<table border=\"1\" class=\"dataframe\">\n",
              "  <thead>\n",
              "    <tr style=\"text-align: right;\">\n",
              "      <th></th>\n",
              "      <th>Surname</th>\n",
              "      <th>Name</th>\n",
              "      <th>Patronymic</th>\n",
              "      <th>Sex</th>\n",
              "    </tr>\n",
              "  </thead>\n",
              "  <tbody>\n",
              "    <tr>\n",
              "      <th>6228603</th>\n",
              "      <td>ИЩЕНКО</td>\n",
              "      <td>МАЙЯ</td>\n",
              "      <td>АННАДУРДЫЕВНА</td>\n",
              "      <td>Ж</td>\n",
              "    </tr>\n",
              "    <tr>\n",
              "      <th>6228604</th>\n",
              "      <td>КОСТЮШИНА</td>\n",
              "      <td>НАТАЛИЯ</td>\n",
              "      <td>ВЯЧЕСЛАВОВНА</td>\n",
              "      <td>Ж</td>\n",
              "    </tr>\n",
              "    <tr>\n",
              "      <th>6228605</th>\n",
              "      <td>КАСАТКИНА</td>\n",
              "      <td>ТАТЬЯНА</td>\n",
              "      <td>ВЛАДИМИРОВНА</td>\n",
              "      <td>Ж</td>\n",
              "    </tr>\n",
              "    <tr>\n",
              "      <th>6228606</th>\n",
              "      <td>МАКСАКОВА</td>\n",
              "      <td>ГАЛИНА</td>\n",
              "      <td>ГЕОРГИЕВНА</td>\n",
              "      <td>Ж</td>\n",
              "    </tr>\n",
              "    <tr>\n",
              "      <th>6228607</th>\n",
              "      <td>БЫКОВСКАЯ</td>\n",
              "      <td>ЕКАТЕРИНА</td>\n",
              "      <td>ВЛАДИМИРОВНА</td>\n",
              "      <td>Ж</td>\n",
              "    </tr>\n",
              "  </tbody>\n",
              "</table>\n",
              "</div>"
            ],
            "text/plain": [
              "           Surname       Name     Patronymic Sex\n",
              "6228603     ИЩЕНКО       МАЙЯ  АННАДУРДЫЕВНА   Ж\n",
              "6228604  КОСТЮШИНА    НАТАЛИЯ   ВЯЧЕСЛАВОВНА   Ж\n",
              "6228605  КАСАТКИНА    ТАТЬЯНА   ВЛАДИМИРОВНА   Ж\n",
              "6228606  МАКСАКОВА     ГАЛИНА     ГЕОРГИЕВНА   Ж\n",
              "6228607  БЫКОВСКАЯ  ЕКАТЕРИНА   ВЛАДИМИРОВНА   Ж"
            ]
          },
          "execution_count": 61,
          "metadata": {},
          "output_type": "execute_result"
        }
      ]
    },
    {
      "cell_type": "code",
      "metadata": {
        "id": "tfLhhmPJVd9k",
        "outputId": "fc8e285c-e19c-473d-a46b-fe540f1df08f"
      },
      "source": [
        "data.info()"
      ],
      "execution_count": null,
      "outputs": [
        {
          "name": "stdout",
          "output_type": "stream",
          "text": [
            "<class 'pandas.core.frame.DataFrame'>\n",
            "RangeIndex: 6228608 entries, 0 to 6228607\n",
            "Data columns (total 4 columns):\n",
            " #   Column      Dtype \n",
            "---  ------      ----- \n",
            " 0   Surname     object\n",
            " 1   Name        object\n",
            " 2   Patronymic  object\n",
            " 3   Sex         object\n",
            "dtypes: object(4)\n",
            "memory usage: 190.1+ MB\n"
          ]
        }
      ]
    },
    {
      "cell_type": "markdown",
      "metadata": {
        "id": "DC4GsxXtVd9l"
      },
      "source": [
        "## Одномерный анализ"
      ]
    },
    {
      "cell_type": "code",
      "metadata": {
        "id": "gUS5T4BcVd9l",
        "outputId": "255740f8-c9f1-4fe6-ea92-cc4f34c971ad"
      },
      "source": [
        "sns.set_style('darkgrid')\n",
        "sns.countplot(y='Sex',data=data,palette='colorblind')\n",
        "plt.xlabel('Количество')\n",
        "plt.ylabel('Пол')\n",
        "plt.show()"
      ],
      "execution_count": null,
      "outputs": [
        {
          "data": {
            "image/png": "[encoded data removed]",
            "text/plain": [
              "<Figure size 432x288 with 1 Axes>"
            ]
          },
          "metadata": {},
          "output_type": "display_data"
        }
      ]
    },
    {
      "cell_type": "markdown",
      "metadata": {
        "id": "1HCLRqZkVd9m"
      },
      "source": [
        "### Наиболее часто встречающиеся имена"
      ]
    },
    {
      "cell_type": "code",
      "metadata": {
        "id": "r-6MUQ59Vd9m",
        "outputId": "1da8347a-3f4b-4329-aac6-45c86af30741"
      },
      "source": [
        "data['Name'].value_counts().index"
      ],
      "execution_count": null,
      "outputs": [
        {
          "data": {
            "text/plain": [
              "Index(['АЛЕКСАНДР', 'ТАТЬЯНА', 'СЕРГЕЙ', 'ЕЛЕНА', 'ВЛАДИМИР', 'НАТАЛЬЯ',\n",
              "       'ОЛЬГА', 'АЛЕКСЕЙ', 'ВАЛЕНТИНА', 'АННА',\n",
              "       ...\n",
              "       'БАРЛЫБАЙ', 'АИШАТ', 'САРБОЗШО', 'КУЖАН', 'ШАРИБАН', 'ЮДМИНА',\n",
              "       'ОЛИМТОН', 'ИНННА', 'ВЛАДИГОР', 'Н.Л'],\n",
              "      dtype='object', length=45199)"
            ]
          },
          "execution_count": 64,
          "metadata": {},
          "output_type": "execute_result"
        }
      ]
    },
    {
      "cell_type": "markdown",
      "metadata": {
        "id": "HSWgZTIxVd9n"
      },
      "source": [
        "#### Избавляемся от ненужных строк, значения в которых некорректные"
      ]
    },
    {
      "cell_type": "code",
      "metadata": {
        "id": "qfJZwCk7Vd9n",
        "outputId": "966c883b-6196-4a46-c1b4-63acb86a4e61"
      },
      "source": [
        "data.loc[(data['Sex'] != 'М') & (data['Sex'] != 'Ж')]"
      ],
      "execution_count": null,
      "outputs": [
        {
          "data": {
            "text/html": [
              "<div>\n",
              "<style scoped>\n",
              "    .dataframe tbody tr th:only-of-type {\n",
              "        vertical-align: middle;\n",
              "    }\n",
              "\n",
              "    .dataframe tbody tr th {\n",
              "        vertical-align: top;\n",
              "    }\n",
              "\n",
              "    .dataframe thead th {\n",
              "        text-align: right;\n",
              "    }\n",
              "</style>\n",
              "<table border=\"1\" class=\"dataframe\">\n",
              "  <thead>\n",
              "    <tr style=\"text-align: right;\">\n",
              "      <th></th>\n",
              "      <th>Surname</th>\n",
              "      <th>Name</th>\n",
              "      <th>Patronymic</th>\n",
              "      <th>Sex</th>\n",
              "    </tr>\n",
              "  </thead>\n",
              "  <tbody>\n",
              "    <tr>\n",
              "      <th>1650995</th>\n",
              "      <td>УПРАВЛЕНИЕ ПО ДЕЛАМ</td>\n",
              "      <td>МОЛОДЕЖИ</td>\n",
              "      <td>КУЛЬТУРЫ</td>\n",
              "      <td>ФИ</td>\n",
              "    </tr>\n",
              "    <tr>\n",
              "      <th>1654029</th>\n",
              "      <td>АООТЭЛЕКТРОСВЯЗЬ</td>\n",
              "      <td>О</td>\n",
              "      <td>/З-Й УЗЕЛ ЭЛЕКТРОСВЯ</td>\n",
              "      <td>ЗИ</td>\n",
              "    </tr>\n",
              "    <tr>\n",
              "      <th>1654030</th>\n",
              "      <td>ЗАО ПРЕДПРИЯТИЕ ИТИ</td>\n",
              "      <td>ПО ПОСТ.ИНФ.</td>\n",
              "      <td>ТЕХНО</td>\n",
              "      <td>Л.</td>\n",
              "    </tr>\n",
              "    <tr>\n",
              "      <th>1654031</th>\n",
              "      <td>ЗАО ПРЕДПРИЯТИЕ ИТИ</td>\n",
              "      <td>ПО ПОСТ.ИНФ.</td>\n",
              "      <td>ТЕХНО</td>\n",
              "      <td>Л.</td>\n",
              "    </tr>\n",
              "    <tr>\n",
              "      <th>1656255</th>\n",
              "      <td>КОМИТЕТ ПО ФИЗИЧЕСКО</td>\n",
              "      <td>Й КУЛЬТУРЕ</td>\n",
              "      <td>СПОРТУ</td>\n",
              "      <td>ТУ</td>\n",
              "    </tr>\n",
              "    <tr>\n",
              "      <th>1665280</th>\n",
              "      <td>1900304</td>\n",
              "      <td>МАЛАХОВКА</td>\n",
              "      <td>УЛ.КАЛИНИ</td>\n",
              "      <td>НА</td>\n",
              "    </tr>\n",
              "    <tr>\n",
              "      <th>1665290</th>\n",
              "      <td>1900163</td>\n",
              "      <td>ЛЮБЕРЦЫ</td>\n",
              "      <td>УЛ.ЮЖНАЯ</td>\n",
              "      <td>Д</td>\n",
              "    </tr>\n",
              "    <tr>\n",
              "      <th>1752987</th>\n",
              "      <td>УПРАВЛЕНИЕ ПО ДЕЛАМ</td>\n",
              "      <td>МОЛОДЕЖИ</td>\n",
              "      <td>КУЛЬТУРЫ</td>\n",
              "      <td>ФИ</td>\n",
              "    </tr>\n",
              "  </tbody>\n",
              "</table>\n",
              "</div>"
            ],
            "text/plain": [
              "                      Surname           Name            Patronymic Sex\n",
              "1650995   УПРАВЛЕНИЕ ПО ДЕЛАМ       МОЛОДЕЖИ              КУЛЬТУРЫ  ФИ\n",
              "1654029      АООТЭЛЕКТРОСВЯЗЬ              О  /З-Й УЗЕЛ ЭЛЕКТРОСВЯ  ЗИ\n",
              "1654030   ЗАО ПРЕДПРИЯТИЕ ИТИ   ПО ПОСТ.ИНФ.                 ТЕХНО  Л.\n",
              "1654031   ЗАО ПРЕДПРИЯТИЕ ИТИ   ПО ПОСТ.ИНФ.                 ТЕХНО  Л.\n",
              "1656255  КОМИТЕТ ПО ФИЗИЧЕСКО     Й КУЛЬТУРЕ                СПОРТУ  ТУ\n",
              "1665280               1900304      МАЛАХОВКА             УЛ.КАЛИНИ  НА\n",
              "1665290               1900163        ЛЮБЕРЦЫ              УЛ.ЮЖНАЯ   Д\n",
              "1752987   УПРАВЛЕНИЕ ПО ДЕЛАМ       МОЛОДЕЖИ              КУЛЬТУРЫ  ФИ"
            ]
          },
          "execution_count": 65,
          "metadata": {},
          "output_type": "execute_result"
        }
      ]
    },
    {
      "cell_type": "code",
      "metadata": {
        "id": "-1Pdu84mVd9n",
        "outputId": "18aa425b-9b9b-40e4-de9c-0c1416b2a8fe"
      },
      "source": [
        "data.drop(data.loc[(data['Sex'] != 'М') & (data['Sex'] != 'Ж')].index, inplace=True)\n",
        "data.dropna(inplace=True)\n",
        "data.reset_index()"
      ],
      "execution_count": null,
      "outputs": [
        {
          "data": {
            "text/html": [
              "<div>\n",
              "<style scoped>\n",
              "    .dataframe tbody tr th:only-of-type {\n",
              "        vertical-align: middle;\n",
              "    }\n",
              "\n",
              "    .dataframe tbody tr th {\n",
              "        vertical-align: top;\n",
              "    }\n",
              "\n",
              "    .dataframe thead th {\n",
              "        text-align: right;\n",
              "    }\n",
              "</style>\n",
              "<table border=\"1\" class=\"dataframe\">\n",
              "  <thead>\n",
              "    <tr style=\"text-align: right;\">\n",
              "      <th></th>\n",
              "      <th>index</th>\n",
              "      <th>Surname</th>\n",
              "      <th>Name</th>\n",
              "      <th>Patronymic</th>\n",
              "      <th>Sex</th>\n",
              "    </tr>\n",
              "  </thead>\n",
              "  <tbody>\n",
              "    <tr>\n",
              "      <th>0</th>\n",
              "      <td>0</td>\n",
              "      <td>АБАБИЙ</td>\n",
              "      <td>АНДРЕЙ</td>\n",
              "      <td>ВАСИЛЬЕВИЧ</td>\n",
              "      <td>М</td>\n",
              "    </tr>\n",
              "    <tr>\n",
              "      <th>1</th>\n",
              "      <td>1</td>\n",
              "      <td>АБАБИЛОВ</td>\n",
              "      <td>ДМИТРИЙ</td>\n",
              "      <td>НИКОЛАЕВИЧ</td>\n",
              "      <td>М</td>\n",
              "    </tr>\n",
              "    <tr>\n",
              "      <th>2</th>\n",
              "      <td>2</td>\n",
              "      <td>АБАБИЛОВ</td>\n",
              "      <td>ВЛАДИМИР</td>\n",
              "      <td>ИВАНОВИЧ</td>\n",
              "      <td>М</td>\n",
              "    </tr>\n",
              "    <tr>\n",
              "      <th>3</th>\n",
              "      <td>3</td>\n",
              "      <td>АБАБИЛОВ</td>\n",
              "      <td>СЕРГЕЙ</td>\n",
              "      <td>ИВАНОВИЧ</td>\n",
              "      <td>М</td>\n",
              "    </tr>\n",
              "    <tr>\n",
              "      <th>4</th>\n",
              "      <td>4</td>\n",
              "      <td>АБАБИЛОВ</td>\n",
              "      <td>ЮРИЙ</td>\n",
              "      <td>ВЛАДИМИРОВИЧ</td>\n",
              "      <td>М</td>\n",
              "    </tr>\n",
              "    <tr>\n",
              "      <th>...</th>\n",
              "      <td>...</td>\n",
              "      <td>...</td>\n",
              "      <td>...</td>\n",
              "      <td>...</td>\n",
              "      <td>...</td>\n",
              "    </tr>\n",
              "    <tr>\n",
              "      <th>6225701</th>\n",
              "      <td>6228603</td>\n",
              "      <td>ИЩЕНКО</td>\n",
              "      <td>МАЙЯ</td>\n",
              "      <td>АННАДУРДЫЕВНА</td>\n",
              "      <td>Ж</td>\n",
              "    </tr>\n",
              "    <tr>\n",
              "      <th>6225702</th>\n",
              "      <td>6228604</td>\n",
              "      <td>КОСТЮШИНА</td>\n",
              "      <td>НАТАЛИЯ</td>\n",
              "      <td>ВЯЧЕСЛАВОВНА</td>\n",
              "      <td>Ж</td>\n",
              "    </tr>\n",
              "    <tr>\n",
              "      <th>6225703</th>\n",
              "      <td>6228605</td>\n",
              "      <td>КАСАТКИНА</td>\n",
              "      <td>ТАТЬЯНА</td>\n",
              "      <td>ВЛАДИМИРОВНА</td>\n",
              "      <td>Ж</td>\n",
              "    </tr>\n",
              "    <tr>\n",
              "      <th>6225704</th>\n",
              "      <td>6228606</td>\n",
              "      <td>МАКСАКОВА</td>\n",
              "      <td>ГАЛИНА</td>\n",
              "      <td>ГЕОРГИЕВНА</td>\n",
              "      <td>Ж</td>\n",
              "    </tr>\n",
              "    <tr>\n",
              "      <th>6225705</th>\n",
              "      <td>6228607</td>\n",
              "      <td>БЫКОВСКАЯ</td>\n",
              "      <td>ЕКАТЕРИНА</td>\n",
              "      <td>ВЛАДИМИРОВНА</td>\n",
              "      <td>Ж</td>\n",
              "    </tr>\n",
              "  </tbody>\n",
              "</table>\n",
              "<p>6225706 rows × 5 columns</p>\n",
              "</div>"
            ],
            "text/plain": [
              "           index    Surname       Name     Patronymic Sex\n",
              "0              0     АБАБИЙ     АНДРЕЙ     ВАСИЛЬЕВИЧ   М\n",
              "1              1   АБАБИЛОВ    ДМИТРИЙ     НИКОЛАЕВИЧ   М\n",
              "2              2   АБАБИЛОВ   ВЛАДИМИР       ИВАНОВИЧ   М\n",
              "3              3   АБАБИЛОВ     СЕРГЕЙ       ИВАНОВИЧ   М\n",
              "4              4   АБАБИЛОВ       ЮРИЙ   ВЛАДИМИРОВИЧ   М\n",
              "...          ...        ...        ...            ...  ..\n",
              "6225701  6228603     ИЩЕНКО       МАЙЯ  АННАДУРДЫЕВНА   Ж\n",
              "6225702  6228604  КОСТЮШИНА    НАТАЛИЯ   ВЯЧЕСЛАВОВНА   Ж\n",
              "6225703  6228605  КАСАТКИНА    ТАТЬЯНА   ВЛАДИМИРОВНА   Ж\n",
              "6225704  6228606  МАКСАКОВА     ГАЛИНА     ГЕОРГИЕВНА   Ж\n",
              "6225705  6228607  БЫКОВСКАЯ  ЕКАТЕРИНА   ВЛАДИМИРОВНА   Ж\n",
              "\n",
              "[6225706 rows x 5 columns]"
            ]
          },
          "execution_count": 66,
          "metadata": {},
          "output_type": "execute_result"
        }
      ]
    },
    {
      "cell_type": "code",
      "metadata": {
        "id": "9Nxy0uUvVd9o",
        "outputId": "28d551b5-cf03-40f7-e924-276fdf2e9c50"
      },
      "source": [
        "sns.set_style('darkgrid')\n",
        "sns.countplot(y='Sex',data=data,palette='colorblind')\n",
        "plt.xlabel('Количество')\n",
        "plt.ylabel('Пол')\n",
        "plt.show()"
      ],
      "execution_count": null,
      "outputs": [
        {
          "data": {
            "image/png": "[encoded data removed]",
            "text/plain": [
              "<Figure size 432x288 with 1 Axes>"
            ]
          },
          "metadata": {},
          "output_type": "display_data"
        }
      ]
    },
    {
      "cell_type": "markdown",
      "metadata": {
        "id": "tTFAn6BdVd9o"
      },
      "source": [
        "#### Количественная оценка разделения данных по полу"
      ]
    },
    {
      "cell_type": "code",
      "metadata": {
        "id": "SL7Ce417Vd9o",
        "outputId": "a883eded-dac8-4760-9577-dffb2fcee4fc"
      },
      "source": [
        "female_count = len(data[data['Sex']=='Ж'])\n",
        "male_count = len(data) - female_count\n",
        "print(\"\\n Всего женщин:\", female_count, \"; \", round(female_count/len(data) * 100), \"%\",\n",
        "      \"\\n\",\"Всего мужчин:\", male_count, \"; \", round(male_count/len(data) * 100), \"%\")"
      ],
      "execution_count": null,
      "outputs": [
        {
          "name": "stdout",
          "output_type": "stream",
          "text": [
            "\n",
            " Всего женщин: 3503762 ;  56 % \n",
            " Всего мужчин: 2721944 ;  44 %\n"
          ]
        }
      ]
    },
    {
      "cell_type": "code",
      "metadata": {
        "id": "iL_QmfqlVd9p"
      },
      "source": [
        "names = set(data['Name'])\n",
        "surnames = set(data['Surname'])\n",
        "patronymic = set(data['Patronymic'])"
      ],
      "execution_count": null,
      "outputs": []
    },
    {
      "cell_type": "code",
      "metadata": {
        "id": "GKAVRZd3Vd9p",
        "outputId": "1775ca0c-1b60-4b41-cc7c-77408928e8c6"
      },
      "source": [
        "len(names)"
      ],
      "execution_count": null,
      "outputs": [
        {
          "data": {
            "text/plain": [
              "45177"
            ]
          },
          "execution_count": 70,
          "metadata": {},
          "output_type": "execute_result"
        }
      ]
    },
    {
      "cell_type": "code",
      "metadata": {
        "id": "hg4SfNrlVd9p",
        "outputId": "23ff51c7-b8db-4a60-a42e-9a7d5b328729"
      },
      "source": [
        "len(surnames)"
      ],
      "execution_count": null,
      "outputs": [
        {
          "data": {
            "text/plain": [
              "383420"
            ]
          },
          "execution_count": 71,
          "metadata": {},
          "output_type": "execute_result"
        }
      ]
    },
    {
      "cell_type": "code",
      "metadata": {
        "id": "f_ZES4JfVd9p",
        "outputId": "6b7d7937-84bb-4e36-a0d2-a5622f22070e"
      },
      "source": [
        "len(patronymic)"
      ],
      "execution_count": null,
      "outputs": [
        {
          "data": {
            "text/plain": [
              "80995"
            ]
          },
          "execution_count": 72,
          "metadata": {},
          "output_type": "execute_result"
        }
      ]
    },
    {
      "cell_type": "markdown",
      "metadata": {
        "id": "zbv1ND5fVd9q"
      },
      "source": [
        "## Feature engineering"
      ]
    },
    {
      "cell_type": "code",
      "metadata": {
        "id": "k-FvD6gqVd9q"
      },
      "source": [
        "data[\"Name\"] = data[\"Name\"].astype('string')\n",
        "data[\"Surname\"] = data[\"Surname\"].astype('string')\n",
        "data[\"Patronymic\"] = data[\"Patronymic\"].astype('string')\n",
        "data[\"Sex\"] = data[\"Sex\"].astype('category')"
      ],
      "execution_count": null,
      "outputs": []
    },
    {
      "cell_type": "code",
      "metadata": {
        "id": "f7l333-IVd9q",
        "outputId": "fc191299-5885-464d-fa8b-af01b93b3a6c"
      },
      "source": [
        "data['patr_is_vna'] = [i[2][-1::] == 'А' for i in data.values]\n",
        "data['name_is_a_ya'] = [((i[1][-1::] == 'А') or (i[1][-1::] == 'Я')) for i in data.values]\n",
        "data['surname_is_a_ya'] = [((i[0][-1::] == 'А') or (i[0][-1::] == 'Я')) for i in data.values]\n",
        "data[\"patr_is_vna\"] = data[\"patr_is_vna\"].astype(int)\n",
        "data[\"name_is_a_ya\"] = data[\"name_is_a_ya\"].astype(int)\n",
        "data[\"surname_is_a_ya\"] = data[\"surname_is_a_ya\"].astype(int)\n",
        "data.dtypes"
      ],
      "execution_count": null,
      "outputs": [
        {
          "data": {
            "text/plain": [
              "Surname              string\n",
              "Name                 string\n",
              "Patronymic           string\n",
              "Sex                category\n",
              "patr_is_vna           int32\n",
              "name_is_a_ya          int32\n",
              "surname_is_a_ya       int32\n",
              "dtype: object"
            ]
          },
          "execution_count": 74,
          "metadata": {},
          "output_type": "execute_result"
        }
      ]
    },
    {
      "cell_type": "code",
      "metadata": {
        "id": "u12XLFMmVd9q"
      },
      "source": [
        "from sklearn import linear_model\n",
        "from sklearn.model_selection import train_test_split\n",
        "from sklearn.metrics import accuracy_score\n",
        "from sklearn.metrics import precision_score\n",
        "from sklearn.metrics import recall_score"
      ],
      "execution_count": null,
      "outputs": []
    },
    {
      "cell_type": "markdown",
      "metadata": {
        "id": "9Fd8DMGeVd9r"
      },
      "source": [
        "## Predict with linear regression"
      ]
    },
    {
      "cell_type": "code",
      "metadata": {
        "id": "56j2UFfbVd9r"
      },
      "source": [
        "x = data.copy()\n",
        "x.drop(['Name', 'Surname', 'Patronymic', 'Sex'], axis=1, inplace=True)"
      ],
      "execution_count": null,
      "outputs": []
    },
    {
      "cell_type": "code",
      "metadata": {
        "id": "X_QNO7esVd9r"
      },
      "source": [
        "y = list(map(int, [((i[3] == 'М') or (i[0][-1::] == 'Ж')) for i in data.values]))"
      ],
      "execution_count": null,
      "outputs": []
    },
    {
      "cell_type": "code",
      "metadata": {
        "id": "7vL8Cny_Vd9r"
      },
      "source": [
        "X_train, X_test, y_train, y_test = train_test_split(x, y, test_size=0.33, random_state=42)"
      ],
      "execution_count": null,
      "outputs": []
    },
    {
      "cell_type": "code",
      "metadata": {
        "id": "ql8Mgw20Vd9r"
      },
      "source": [
        "model = linear_model.LinearRegression().fit(X_train, y_train)"
      ],
      "execution_count": null,
      "outputs": []
    },
    {
      "cell_type": "code",
      "metadata": {
        "id": "HX6Eqdp2Vd9r"
      },
      "source": [
        "y_pred = model.predict(X_test)"
      ],
      "execution_count": null,
      "outputs": []
    },
    {
      "cell_type": "code",
      "metadata": {
        "id": "qc-DY4QMVd9r",
        "outputId": "78b8d4d3-cbbd-4ee3-abdc-caa7aec03ea1"
      },
      "source": [
        "accuracy = accuracy_score(np.round(abs(y_pred)),  y_test) \n",
        "print(f'Accuracy: {accuracy}')\n",
        "\n",
        "precision = precision_score(np.round(abs(y_pred)), y_test)\n",
        "print(f'Precision: {precision}')\n",
        "\n",
        "recall = recall_score(np.round(abs(y_pred)), y_test)\n",
        "print(f'Recall: {recall}')"
      ],
      "execution_count": null,
      "outputs": [
        {
          "name": "stdout",
          "output_type": "stream",
          "text": [
            "Accuracy: 0.9957264187632606\n",
            "Precision: 0.9980722639607912\n",
            "Recall: 0.9922071976432496\n"
          ]
        }
      ]
    },
    {
      "cell_type": "markdown",
      "metadata": {
        "id": "xMc9XgNEVd9s"
      },
      "source": [
        "## Predict with logistic regression"
      ]
    },
    {
      "cell_type": "code",
      "metadata": {
        "id": "_DO0JORIVd9s"
      },
      "source": [
        "model = linear_model.LogisticRegression()"
      ],
      "execution_count": null,
      "outputs": []
    },
    {
      "cell_type": "code",
      "metadata": {
        "id": "DbQ5IGXlVd9s",
        "outputId": "2e2941c3-103f-4684-90f5-92869c1dd9b1"
      },
      "source": [
        "model.fit(X_train, y_train)"
      ],
      "execution_count": null,
      "outputs": [
        {
          "data": {
            "text/plain": [
              "LogisticRegression()"
            ]
          },
          "execution_count": 83,
          "metadata": {},
          "output_type": "execute_result"
        }
      ]
    },
    {
      "cell_type": "code",
      "metadata": {
        "id": "ARrAWlEyVd9s"
      },
      "source": [
        "y_pred = model.predict(X_test)"
      ],
      "execution_count": null,
      "outputs": []
    },
    {
      "cell_type": "code",
      "metadata": {
        "id": "QtQ2ZF-fVd9s",
        "outputId": "b9528e14-0cc7-4be7-9f56-01e1e9616592"
      },
      "source": [
        "accuracy = accuracy_score(y_pred, y_test)\n",
        "print(f'Accuracy: {accuracy}')\n",
        "\n",
        "precision = precision_score(y_pred, y_test)\n",
        "print(f'Precision: {precision}')\n",
        "\n",
        "recall = recall_score(y_pred, y_test)\n",
        "print(f'Recall: {recall}')"
      ],
      "execution_count": null,
      "outputs": [
        {
          "name": "stdout",
          "output_type": "stream",
          "text": [
            "Accuracy: 0.9969213665919845\n",
            "Precision: 0.9973603475931665\n",
            "Recall: 0.9956116243097358\n"
          ]
        }
      ]
    },
    {
      "cell_type": "markdown",
      "metadata": {
        "id": "vtjaiCPCVd9s"
      },
      "source": [
        "## Predict with Desicion Tree"
      ]
    },
    {
      "cell_type": "code",
      "metadata": {
        "id": "LNiT5N_5Vd9t"
      },
      "source": [
        "from sklearn.tree import DecisionTreeClassifier"
      ],
      "execution_count": null,
      "outputs": []
    },
    {
      "cell_type": "code",
      "metadata": {
        "id": "aNH17XsoVd9t"
      },
      "source": [
        "model = DecisionTreeClassifier(max_depth=4)"
      ],
      "execution_count": null,
      "outputs": []
    },
    {
      "cell_type": "code",
      "metadata": {
        "id": "3RBNdgnrVd9t",
        "outputId": "cdb7af9f-7be4-4339-a193-e888480a0392"
      },
      "source": [
        "model.fit(X_train, y_train)"
      ],
      "execution_count": null,
      "outputs": [
        {
          "data": {
            "text/plain": [
              "DecisionTreeClassifier(max_depth=4)"
            ]
          },
          "execution_count": 88,
          "metadata": {},
          "output_type": "execute_result"
        }
      ]
    },
    {
      "cell_type": "code",
      "metadata": {
        "id": "kcajgPfFVd9t"
      },
      "source": [
        "y_pred = model.predict(X_test)"
      ],
      "execution_count": null,
      "outputs": []
    },
    {
      "cell_type": "code",
      "metadata": {
        "id": "psTbfy2YVd9t",
        "outputId": "371a7ec3-07d8-47f9-b2e0-8388be908fb8"
      },
      "source": [
        "accuracy = accuracy_score(y_pred, y_test)\n",
        "print(f'Accuracy: {accuracy}')\n",
        "\n",
        "precision = precision_score(y_pred, y_test)\n",
        "print(f'Precision: {precision}')\n",
        "\n",
        "recall = recall_score(y_pred, y_test)\n",
        "print(f'Recall: {recall}')"
      ],
      "execution_count": null,
      "outputs": [
        {
          "name": "stdout",
          "output_type": "stream",
          "text": [
            "Accuracy: 0.9969213665919845\n",
            "Precision: 0.9973603475931665\n",
            "Recall: 0.9956116243097358\n"
          ]
        }
      ]
    },
    {
      "cell_type": "markdown",
      "metadata": {
        "id": "vnD5wD_ZVd9t"
      },
      "source": [
        "## Predict with Random Forerst"
      ]
    },
    {
      "cell_type": "code",
      "metadata": {
        "id": "B8h-MOMdVd9u"
      },
      "source": [
        "from sklearn.ensemble import RandomForestClassifier"
      ],
      "execution_count": null,
      "outputs": []
    },
    {
      "cell_type": "code",
      "metadata": {
        "id": "NaWIEbsjVd9u"
      },
      "source": [
        "model = RandomForestClassifier(n_estimators = 10)"
      ],
      "execution_count": null,
      "outputs": []
    },
    {
      "cell_type": "code",
      "metadata": {
        "id": "ScU8daWeVd9u"
      },
      "source": [
        "# ?RandomForestClassifier"
      ],
      "execution_count": null,
      "outputs": []
    },
    {
      "cell_type": "code",
      "metadata": {
        "id": "Bw0FjfnTVd9u",
        "outputId": "32fde5a1-fc59-46e7-c677-89830d207fc9"
      },
      "source": [
        "model.fit(X_train, y_train)"
      ],
      "execution_count": null,
      "outputs": [
        {
          "data": {
            "text/plain": [
              "RandomForestClassifier(n_estimators=10)"
            ]
          },
          "execution_count": 109,
          "metadata": {},
          "output_type": "execute_result"
        }
      ]
    },
    {
      "cell_type": "code",
      "metadata": {
        "id": "Sj9XVGXpVd9u"
      },
      "source": [
        "y_pred = model.predict(X_test)"
      ],
      "execution_count": null,
      "outputs": []
    },
    {
      "cell_type": "code",
      "metadata": {
        "id": "PyvnGa_FVd9u",
        "outputId": "b45f91ac-7e67-4f89-8fad-93f57c72dcaa"
      },
      "source": [
        "accuracy = accuracy_score(y_pred, y_test)\n",
        "print(f'Accuracy: {accuracy}')\n",
        "\n",
        "precision = precision_score(y_pred, y_test)\n",
        "print(f'Precision: {precision}')\n",
        "\n",
        "recall = recall_score(y_pred, y_test)\n",
        "print(f'Recall: {recall}')"
      ],
      "execution_count": null,
      "outputs": [
        {
          "name": "stdout",
          "output_type": "stream",
          "text": [
            "Accuracy: 0.9969213665919845\n",
            "Precision: 0.9973603475931665\n",
            "Recall: 0.9956116243097358\n"
          ]
        }
      ]
    },
    {
      "cell_type": "markdown",
      "metadata": {
        "id": "JV3KEUGUVd9u"
      },
      "source": [
        "## Predict with XGBoost"
      ]
    },
    {
      "cell_type": "code",
      "metadata": {
        "id": "hzAjNOQPVd9u"
      },
      "source": [
        "import xgboost as xgb"
      ],
      "execution_count": null,
      "outputs": []
    },
    {
      "cell_type": "code",
      "metadata": {
        "id": "zJ821NsXVd9u"
      },
      "source": [
        "model = xgb.XGBRegressor()"
      ],
      "execution_count": null,
      "outputs": []
    },
    {
      "cell_type": "code",
      "metadata": {
        "id": "2axzqSHeVd9v",
        "outputId": "5d6a073e-4605-44e3-e2fd-6c80fcbc5639"
      },
      "source": [
        "model.fit(X_train, y_train)"
      ],
      "execution_count": null,
      "outputs": [
        {
          "data": {
            "text/plain": [
              "XGBRegressor(base_score=0.5, booster='gbtree', colsample_bylevel=1,\n",
              "             colsample_bynode=1, colsample_bytree=1, gamma=0, gpu_id=-1,\n",
              "             importance_type='gain', interaction_constraints='',\n",
              "             learning_rate=0.300000012, max_delta_step=0, max_depth=6,\n",
              "             min_child_weight=1, missing=nan, monotone_constraints='()',\n",
              "             n_estimators=100, n_jobs=6, num_parallel_tree=1, random_state=0,\n",
              "             reg_alpha=0, reg_lambda=1, scale_pos_weight=1, subsample=1,\n",
              "             tree_method='exact', validate_parameters=1, verbosity=None)"
            ]
          },
          "execution_count": 114,
          "metadata": {},
          "output_type": "execute_result"
        }
      ]
    },
    {
      "cell_type": "code",
      "metadata": {
        "id": "uYa-tb94Vd9v"
      },
      "source": [
        "y_pred = model.predict(X_test)"
      ],
      "execution_count": null,
      "outputs": []
    },
    {
      "cell_type": "code",
      "metadata": {
        "id": "GBlKukdNVd9v",
        "outputId": "4ca9cab2-18d0-4f77-b000-70a36ee030d7"
      },
      "source": [
        "accuracy = accuracy_score(np.round(abs(y_pred)),  y_test) \n",
        "print(f'Accuracy: {accuracy}')\n",
        "\n",
        "precision = precision_score(np.round(abs(y_pred)), y_test)\n",
        "print(f'Precision: {precision}')\n",
        "\n",
        "recall = recall_score(np.round(abs(y_pred)), y_test)\n",
        "print(f'Recall: {recall}')"
      ],
      "execution_count": null,
      "outputs": [
        {
          "name": "stdout",
          "output_type": "stream",
          "text": [
            "Accuracy: 0.9969213665919845\n",
            "Precision: 0.9973603475931665\n",
            "Recall: 0.9956116243097358\n"
          ]
        }
      ]
    },
    {
      "cell_type": "markdown",
      "metadata": {
        "id": "2cTmChudVd9v"
      },
      "source": [
        "## Predict with LightGBM"
      ]
    },
    {
      "cell_type": "code",
      "metadata": {
        "id": "1QMoRGlKVd9v"
      },
      "source": [
        "import lightgbm as ltb"
      ],
      "execution_count": null,
      "outputs": []
    },
    {
      "cell_type": "code",
      "metadata": {
        "id": "kOpyQgiMVd9v"
      },
      "source": [
        "model = ltb.LGBMClassifier()"
      ],
      "execution_count": null,
      "outputs": []
    },
    {
      "cell_type": "code",
      "metadata": {
        "id": "CQ-jSHBRVd9v",
        "outputId": "c3e7d67e-afd3-4e1e-8a2d-e15231a70c43"
      },
      "source": [
        "model.fit(X_train, y_train)"
      ],
      "execution_count": null,
      "outputs": [
        {
          "data": {
            "text/plain": [
              "LGBMClassifier()"
            ]
          },
          "execution_count": 119,
          "metadata": {},
          "output_type": "execute_result"
        }
      ]
    },
    {
      "cell_type": "code",
      "metadata": {
        "id": "8hklPDNNVd9w"
      },
      "source": [
        "y_pred = model.predict(X_test)"
      ],
      "execution_count": null,
      "outputs": []
    },
    {
      "cell_type": "code",
      "metadata": {
        "id": "McvxsDqZVd9w",
        "outputId": "585a87f8-ec7b-4912-bda8-bbdc227d3938"
      },
      "source": [
        "accuracy = accuracy_score(y_pred, y_test)\n",
        "print(f'Accuracy: {accuracy}')\n",
        "\n",
        "precision = precision_score(y_pred, y_test)\n",
        "print(f'Precision: {precision}')\n",
        "\n",
        "recall = recall_score(y_pred, y_test)\n",
        "print(f'Recall: {recall}')"
      ],
      "execution_count": null,
      "outputs": [
        {
          "name": "stdout",
          "output_type": "stream",
          "text": [
            "Accuracy: 0.9969213665919845\n",
            "Precision: 0.9973603475931665\n",
            "Recall: 0.9956116243097358\n"
          ]
        }
      ]
    },
    {
      "cell_type": "markdown",
      "metadata": {
        "id": "ShkG6sByVd9w"
      },
      "source": [
        "# Выводы"
      ]
    },
    {
      "cell_type": "markdown",
      "metadata": {
        "id": "jzUlhGfaVd9w"
      },
      "source": [
        "Все представленные способы классификации показали отличные результаты, это связано с четким разделением мужских и женских имен и отчеств, на котором был основан отбор признаков для обучения."
      ]
    }
  ]
}